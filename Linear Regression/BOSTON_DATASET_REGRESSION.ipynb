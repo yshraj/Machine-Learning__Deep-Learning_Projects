{
  "nbformat": 4,
  "nbformat_minor": 0,
  "metadata": {
    "colab": {
      "name": "BOSTON_DATASET_REGRESSION.ipynb",
      "provenance": [],
      "collapsed_sections": []
    },
    "kernelspec": {
      "name": "python3",
      "display_name": "Python 3"
    },
    "language_info": {
      "name": "python"
    }
  },
  "cells": [
    {
      "cell_type": "markdown",
      "metadata": {
        "id": "MGuC7eBpgCHI"
      },
      "source": [
        "Name: YASH DARJI\n",
        "Roll No.: 19BCE043\n",
        "Course : Machine Learning\n",
        "Course Code : 2CS501\n",
        "Practical : 3"
      ]
    },
    {
      "cell_type": "markdown",
      "metadata": {
        "id": "EjE4lhPGhz0Z"
      },
      "source": [
        "Here I am using Gradient Decsent method."
      ]
    },
    {
      "cell_type": "markdown",
      "metadata": {
        "id": "oePyYjDljGwQ"
      },
      "source": [
        "**Boston Housing with Gradient Decsent Regression**\n",
        "\n",
        "\n"
      ]
    },
    {
      "cell_type": "code",
      "metadata": {
        "colab": {
          "base_uri": "https://localhost:8080/"
        },
        "id": "eb-M82f4irOl",
        "outputId": "6892cd87-970c-4f57-d43f-5511cc3eae14"
      },
      "source": [
        "import numpy as np\n",
        "from sklearn import datasets,metrics\n",
        "from sklearn.preprocessing import StandardScaler\n",
        "import pandas as pd\n",
        "import matplotlib.pyplot as plt\n",
        "import numpy as np\n",
        "\n",
        "X,y = datasets.load_boston(return_X_y=True)\n",
        "print(X.shape)\n",
        "#BOSTON.head(5)"
      ],
      "execution_count": null,
      "outputs": [
        {
          "output_type": "stream",
          "name": "stdout",
          "text": [
            "(506, 13)\n"
          ]
        }
      ]
    },
    {
      "cell_type": "code",
      "metadata": {
        "colab": {
          "base_uri": "https://localhost:8080/",
          "height": 205
        },
        "id": "r7Ol1MwakBcn",
        "outputId": "e97a5fff-85a1-46ca-f926-80512c4b07cd"
      },
      "source": [
        "#Converting dataset  into dataframe\n",
        "from sklearn.datasets import load_boston\n",
        "boston_dataset = load_boston()\n",
        "boston = pd.DataFrame(boston_dataset.data, columns=boston_dataset.feature_names)\n",
        "boston.head()\n"
      ],
      "execution_count": null,
      "outputs": [
        {
          "output_type": "execute_result",
          "data": {
            "text/html": [
              "<div>\n",
              "<style scoped>\n",
              "    .dataframe tbody tr th:only-of-type {\n",
              "        vertical-align: middle;\n",
              "    }\n",
              "\n",
              "    .dataframe tbody tr th {\n",
              "        vertical-align: top;\n",
              "    }\n",
              "\n",
              "    .dataframe thead th {\n",
              "        text-align: right;\n",
              "    }\n",
              "</style>\n",
              "<table border=\"1\" class=\"dataframe\">\n",
              "  <thead>\n",
              "    <tr style=\"text-align: right;\">\n",
              "      <th></th>\n",
              "      <th>CRIM</th>\n",
              "      <th>ZN</th>\n",
              "      <th>INDUS</th>\n",
              "      <th>CHAS</th>\n",
              "      <th>NOX</th>\n",
              "      <th>RM</th>\n",
              "      <th>AGE</th>\n",
              "      <th>DIS</th>\n",
              "      <th>RAD</th>\n",
              "      <th>TAX</th>\n",
              "      <th>PTRATIO</th>\n",
              "      <th>B</th>\n",
              "      <th>LSTAT</th>\n",
              "    </tr>\n",
              "  </thead>\n",
              "  <tbody>\n",
              "    <tr>\n",
              "      <th>0</th>\n",
              "      <td>0.00632</td>\n",
              "      <td>18.0</td>\n",
              "      <td>2.31</td>\n",
              "      <td>0.0</td>\n",
              "      <td>0.538</td>\n",
              "      <td>6.575</td>\n",
              "      <td>65.2</td>\n",
              "      <td>4.0900</td>\n",
              "      <td>1.0</td>\n",
              "      <td>296.0</td>\n",
              "      <td>15.3</td>\n",
              "      <td>396.90</td>\n",
              "      <td>4.98</td>\n",
              "    </tr>\n",
              "    <tr>\n",
              "      <th>1</th>\n",
              "      <td>0.02731</td>\n",
              "      <td>0.0</td>\n",
              "      <td>7.07</td>\n",
              "      <td>0.0</td>\n",
              "      <td>0.469</td>\n",
              "      <td>6.421</td>\n",
              "      <td>78.9</td>\n",
              "      <td>4.9671</td>\n",
              "      <td>2.0</td>\n",
              "      <td>242.0</td>\n",
              "      <td>17.8</td>\n",
              "      <td>396.90</td>\n",
              "      <td>9.14</td>\n",
              "    </tr>\n",
              "    <tr>\n",
              "      <th>2</th>\n",
              "      <td>0.02729</td>\n",
              "      <td>0.0</td>\n",
              "      <td>7.07</td>\n",
              "      <td>0.0</td>\n",
              "      <td>0.469</td>\n",
              "      <td>7.185</td>\n",
              "      <td>61.1</td>\n",
              "      <td>4.9671</td>\n",
              "      <td>2.0</td>\n",
              "      <td>242.0</td>\n",
              "      <td>17.8</td>\n",
              "      <td>392.83</td>\n",
              "      <td>4.03</td>\n",
              "    </tr>\n",
              "    <tr>\n",
              "      <th>3</th>\n",
              "      <td>0.03237</td>\n",
              "      <td>0.0</td>\n",
              "      <td>2.18</td>\n",
              "      <td>0.0</td>\n",
              "      <td>0.458</td>\n",
              "      <td>6.998</td>\n",
              "      <td>45.8</td>\n",
              "      <td>6.0622</td>\n",
              "      <td>3.0</td>\n",
              "      <td>222.0</td>\n",
              "      <td>18.7</td>\n",
              "      <td>394.63</td>\n",
              "      <td>2.94</td>\n",
              "    </tr>\n",
              "    <tr>\n",
              "      <th>4</th>\n",
              "      <td>0.06905</td>\n",
              "      <td>0.0</td>\n",
              "      <td>2.18</td>\n",
              "      <td>0.0</td>\n",
              "      <td>0.458</td>\n",
              "      <td>7.147</td>\n",
              "      <td>54.2</td>\n",
              "      <td>6.0622</td>\n",
              "      <td>3.0</td>\n",
              "      <td>222.0</td>\n",
              "      <td>18.7</td>\n",
              "      <td>396.90</td>\n",
              "      <td>5.33</td>\n",
              "    </tr>\n",
              "  </tbody>\n",
              "</table>\n",
              "</div>"
            ],
            "text/plain": [
              "      CRIM    ZN  INDUS  CHAS    NOX  ...  RAD    TAX  PTRATIO       B  LSTAT\n",
              "0  0.00632  18.0   2.31   0.0  0.538  ...  1.0  296.0     15.3  396.90   4.98\n",
              "1  0.02731   0.0   7.07   0.0  0.469  ...  2.0  242.0     17.8  396.90   9.14\n",
              "2  0.02729   0.0   7.07   0.0  0.469  ...  2.0  242.0     17.8  392.83   4.03\n",
              "3  0.03237   0.0   2.18   0.0  0.458  ...  3.0  222.0     18.7  394.63   2.94\n",
              "4  0.06905   0.0   2.18   0.0  0.458  ...  3.0  222.0     18.7  396.90   5.33\n",
              "\n",
              "[5 rows x 13 columns]"
            ]
          },
          "metadata": {},
          "execution_count": 6
        }
      ]
    },
    {
      "cell_type": "code",
      "metadata": {
        "colab": {
          "base_uri": "https://localhost:8080/"
        },
        "id": "BKxe-7NRkjwJ",
        "outputId": "88f7e871-66a3-440d-db39-19a57f5cca15"
      },
      "source": [
        "x_training_temp=X[0:400,:]\n",
        "\n",
        "x_train=np.zeros((x_training_temp.shape[0],x_training_temp.shape[1]+1))\n",
        "\n",
        "x_train[:,0]=np.ones((x_training_temp.shape[0]))\n",
        "\n",
        "#print(x_train)\n",
        "\n",
        "x_train[:,1:]=x_training_temp\n",
        "\n",
        "print(\"Type of x_train:\",type(x_train))\n",
        "\n",
        "print(\"Shape of x_train:\",x_train.shape)\n",
        "\n",
        "#print(x_train)\n",
        "\n",
        "y_train=y[0:400]\n",
        "\n",
        "x_test_temp=X[400:506,:]\n",
        "\n",
        "x_test=np.zeros((x_test_temp.shape[0],x_test_temp.shape[1]+1))\n",
        "\n",
        "\n",
        "x_test[:,1:]=x_test_temp\n",
        "\n",
        "\n",
        "print(\"Type of x_train:\",type(x_test))\n",
        "\n",
        "print(\"Shape of x_train:\",x_test.shape)\n",
        "\n",
        "y_test=y[400:506]\n",
        "\n",
        "print(x_train)\n",
        "\n",
        "\n",
        "\n",
        "scaler=StandardScaler()\n",
        "\n",
        "\n",
        "scaler.fit(x_train[:,1:])\n",
        "\n",
        "x_train[:,1:]=scaler.transform(x_train[:,1:])\n",
        "\n",
        "x_test[:,1:]=scaler.transform(x_test[:,1:])\n",
        "\n",
        "print(x_train)\n",
        "print(x_train.T)"
      ],
      "execution_count": null,
      "outputs": [
        {
          "output_type": "stream",
          "name": "stdout",
          "text": [
            "Type of x_train: <class 'numpy.ndarray'>\n",
            "Shape of x_train: (400, 14)\n",
            "Type of x_train: <class 'numpy.ndarray'>\n",
            "Shape of x_train: (106, 14)\n",
            "[[1.00000e+00 6.32000e-03 1.80000e+01 ... 1.53000e+01 3.96900e+02\n",
            "  4.98000e+00]\n",
            " [1.00000e+00 2.73100e-02 0.00000e+00 ... 1.78000e+01 3.96900e+02\n",
            "  9.14000e+00]\n",
            " [1.00000e+00 2.72900e-02 0.00000e+00 ... 1.78000e+01 3.92830e+02\n",
            "  4.03000e+00]\n",
            " ...\n",
            " [1.00000e+00 7.67202e+00 0.00000e+00 ... 2.02000e+01 3.93100e+02\n",
            "  1.99200e+01]\n",
            " [1.00000e+00 3.83518e+01 0.00000e+00 ... 2.02000e+01 3.96900e+02\n",
            "  3.05900e+01]\n",
            " [1.00000e+00 9.91655e+00 0.00000e+00 ... 2.02000e+01 3.38160e+02\n",
            "  2.99700e+01]]\n",
            "[[ 1.         -0.29171468  0.14290806 ... -1.21945879  0.41941166\n",
            "  -0.92732759]\n",
            " [ 1.         -0.28820481 -0.56670438 ... -0.09220903  0.41941166\n",
            "  -0.3121236 ]\n",
            " [ 1.         -0.28820816 -0.56670438 ... -0.09220903  0.3192679\n",
            "  -1.06781889]\n",
            " ...\n",
            " [ 1.          0.99011231 -0.56670438 ...  0.98995074  0.32591134\n",
            "   1.2820829 ]\n",
            " [ 1.          6.12025956 -0.56670438 ...  0.98995074  0.41941166\n",
            "   2.86002199]\n",
            " [ 1.          1.36543343 -0.56670438 ...  0.98995074 -1.02590637\n",
            "   2.76833293]]\n",
            "[[ 1.          1.          1.         ...  1.          1.\n",
            "   1.        ]\n",
            " [-0.29171468 -0.28820481 -0.28820816 ...  0.99011231  6.12025956\n",
            "   1.36543343]\n",
            " [ 0.14290806 -0.56670438 -0.56670438 ... -0.56670438 -0.56670438\n",
            "  -0.56670438]\n",
            " ...\n",
            " [-1.21945879 -0.09220903 -0.09220903 ...  0.98995074  0.98995074\n",
            "   0.98995074]\n",
            " [ 0.41941166  0.41941166  0.3192679  ...  0.32591134  0.41941166\n",
            "  -1.02590637]\n",
            " [-0.92732759 -0.3121236  -1.06781889 ...  1.2820829   2.86002199\n",
            "   2.76833293]]\n"
          ]
        }
      ]
    },
    {
      "cell_type": "code",
      "metadata": {
        "colab": {
          "base_uri": "https://localhost:8080/"
        },
        "id": "ri1eGCwGq_6U",
        "outputId": "6bf488e1-04e4-4582-a6a0-f25aecaf3fa6"
      },
      "source": [
        "theta=np.random.uniform(0,1,size=(x_train.shape[1]))\n",
        "\n",
        "print(\"Type of theta:\",type(theta))\n",
        "print(\"Shape of theta:\",theta.shape)\n",
        "iterations=1000\n",
        "alpha=0.01\n",
        "\n",
        "\n",
        "\n",
        "\n",
        "m = x_train.shape[0]\n",
        "n = x_train.shape[1]\n",
        "iter = np.arange(iterations)\n",
        "cost = np.zeros(iterations)\n",
        "\n",
        "\n",
        "m=x_train.shape[0]\n",
        "c=x_train.shape[1]\n",
        "\n",
        "for i in range(iterations):\n",
        "  update=np.zeros(x_train.shape[1])\n",
        "  y_pred=np.dot(x_train,theta)\n",
        "  error=y_pred - y_train\n",
        "  for j in range(c):\n",
        "    update[j]=np.sum(error*(x_train.T)[j])\n",
        "  theta= theta - (1/m)*(alpha)*update\n",
        "  cost[i]=(1/(2*m))*(np.sum((error)**2))\n",
        "  \n",
        "\n",
        "print('THETA',theta)\n",
        "print('THETA shape',theta.shape)\n",
        "\n",
        "pred=np.dot(x_test,theta)\n",
        "print(\"MAE:\",metrics.mean_absolute_error(y_true=y_test,y_pred=pred))\n",
        "print(\"MSE:\",metrics.mean_squared_error(y_true=y_test,y_pred=pred))"
      ],
      "execution_count": null,
      "outputs": [
        {
          "output_type": "stream",
          "name": "stdout",
          "text": [
            "Type of theta: <class 'numpy.ndarray'>\n",
            "Shape of theta: (14,)\n",
            "THETA [ 2.43334555e+01 -1.01702211e+00  9.01679668e-01  1.24902831e-02\n",
            "  5.59451945e-01 -1.23237130e+00  3.74511208e+00 -2.53560584e-02\n",
            " -2.53584561e+00  2.08915941e+00 -1.09113202e+00 -1.66737096e+00\n",
            "  4.73325710e-02 -3.45488641e+00]\n",
            "THETA shape (14,)\n",
            "MAE: 21.108092139860055\n",
            "MSE: 468.3719574682505\n"
          ]
        }
      ]
    },
    {
      "cell_type": "code",
      "metadata": {
        "colab": {
          "base_uri": "https://localhost:8080/",
          "height": 283
        },
        "id": "umVLwBl--jTZ",
        "outputId": "1bc34320-fe6a-42da-c1a9-ba58a66f01e4"
      },
      "source": [
        "plt.plot(iter, cost)"
      ],
      "execution_count": null,
      "outputs": [
        {
          "output_type": "execute_result",
          "data": {
            "text/plain": [
              "[<matplotlib.lines.Line2D at 0x7f8e060cc3d0>]"
            ]
          },
          "metadata": {},
          "execution_count": 7
        },
        {
          "output_type": "display_data",
          "data": {
            "image/png": "[encoded data removed]",
            "text/plain": [
              "<Figure size 432x288 with 1 Axes>"
            ]
          },
          "metadata": {
            "needs_background": "light"
          }
        }
      ]
    },
    {
      "cell_type": "code",
      "metadata": {
        "id": "S0oKDtxL9ht9"
      },
      "source": [
        "minx = np.min(x_train[:,1:])\n",
        "maxx = np.max(x_train[:,1:])"
      ],
      "execution_count": null,
      "outputs": []
    },
    {
      "cell_type": "code",
      "metadata": {
        "id": "HEhmiFaQ-0Z7"
      },
      "source": [
        "x_train[:,1:] = (x_train[:,1:] - minx)/(maxx - minx)"
      ],
      "execution_count": null,
      "outputs": []
    },
    {
      "cell_type": "code",
      "metadata": {
        "colab": {
          "base_uri": "https://localhost:8080/"
        },
        "id": "-0rT4gkn--Ey",
        "outputId": "cd80f57f-2e27-49cb-a05a-117464b8f77c"
      },
      "source": [
        "theta=np.random.uniform(0,1,size=(x_train.shape[1]))\n",
        "\n",
        "print(\"Type of theta:\",type(theta))\n",
        "print(\"Shape of theta:\",theta.shape)\n",
        "iterations=1000\n",
        "alpha=0.01\n",
        "\n",
        "\n",
        "\n",
        "\n",
        "m = x_train.shape[0]\n",
        "n = x_train.shape[1]\n",
        "iter = np.arange(iterations)\n",
        "cost = np.zeros(iterations)\n",
        "\n",
        "\n",
        "m=x_train.shape[0]\n",
        "c=x_train.shape[1]\n",
        "\n",
        "for i in range(iterations):\n",
        "  update=np.zeros(x_train.shape[1])\n",
        "  y_pred=np.dot(x_train,theta)\n",
        "  error=y_pred - y_train\n",
        "  for j in range(c):\n",
        "    update[j]=np.sum(error*(x_train.T)[j])\n",
        "  theta= theta - (1/m)*(alpha)*update\n",
        "  cost[i]=(1/(2*m))*(np.sum((error)**2))\n",
        "  \n",
        "\n",
        "print('THETA',theta)\n",
        "print('THETA shape',theta.shape)"
      ],
      "execution_count": null,
      "outputs": [
        {
          "output_type": "stream",
          "name": "stdout",
          "text": [
            "Type of theta: <class 'numpy.ndarray'>\n",
            "Shape of theta: (14,)\n",
            "THETA [9.78619379 2.22773028 4.72089284 2.59277353 3.99196203 2.74800449\n",
            " 6.61135459 2.81377662 4.5791026  2.6574666  2.4621789  1.49195377\n",
            " 4.03398278 1.25718646]\n",
            "THETA shape (14,)\n"
          ]
        }
      ]
    },
    {
      "cell_type": "code",
      "metadata": {
        "colab": {
          "base_uri": "https://localhost:8080/",
          "height": 283
        },
        "id": "u-ShWpDa_CPW",
        "outputId": "56dc59dd-7c0f-4ba8-abfe-d92ee7ca1a10"
      },
      "source": [
        "plt.plot(iter, cost)"
      ],
      "execution_count": null,
      "outputs": [
        {
          "output_type": "execute_result",
          "data": {
            "text/plain": [
              "[<matplotlib.lines.Line2D at 0x7f8e01aa4550>]"
            ]
          },
          "metadata": {},
          "execution_count": 10
        },
        {
          "output_type": "display_data",
          "data": {
            "image/png": "[encoded data removed]",
            "text/plain": [
              "<Figure size 432x288 with 1 Axes>"
            ]
          },
          "metadata": {
            "needs_background": "light"
          }
        }
      ]
    },
    {
      "cell_type": "code",
      "metadata": {
        "colab": {
          "base_uri": "https://localhost:8080/"
        },
        "id": "myNlLjF__JJb",
        "outputId": "13d7b623-ef20-4b2f-b094-e3e43c07ef5a"
      },
      "source": [
        "pred=np.dot(x_test,theta)\n",
        "print(\"MAE:\",metrics.mean_absolute_error(y_true=y_test,y_pred=pred))\n",
        "print(\"MSE:\",metrics.mean_squared_error(y_true=y_test,y_pred=pred))\n",
        "\n",
        "\n",
        "#at std scaler mae =21.xxx and mse=468.xxx  was//..."
      ],
      "execution_count": null,
      "outputs": [
        {
          "output_type": "stream",
          "name": "stdout",
          "text": [
            "MAE: 15.209622302822066\n",
            "MSE: 348.2754382741128\n"
          ]
        }
      ]
    }
  ]
}