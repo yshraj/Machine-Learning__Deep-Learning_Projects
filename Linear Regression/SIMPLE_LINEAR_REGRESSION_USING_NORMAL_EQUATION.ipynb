{
  "nbformat": 4,
  "nbformat_minor": 0,
  "metadata": {
    "colab": {
      "name": "SIMPLE LINEAR REGRESSION USING NORMAL_EQUATION.ipynb",
      "provenance": [],
      "collapsed_sections": []
    },
    "kernelspec": {
      "name": "python3",
      "display_name": "Python 3"
    },
    "language_info": {
      "name": "python"
    }
  },
  "cells": [
    {
      "cell_type": "code",
      "metadata": {
        "colab": {
          "base_uri": "https://localhost:8080/"
        },
        "id": "OJv7A6_fsZrE",
        "outputId": "3a1418b2-e03d-420f-f538-a422e7ac0cf7"
      },
      "source": [
        "import matplotlib.pyplot as plt\n",
        "import seaborn\n",
        "import pandas as pd\n",
        "import numpy as np\n",
        "\n",
        "data = pd.read_csv(\"Train.csv\")\n",
        "test=pd.read_csv(\"Test.csv\")\n",
        "\n",
        "\n",
        "print(data.head())\n",
        "print(test.head())"
      ],
      "execution_count": null,
      "outputs": [
        {
          "output_type": "stream",
          "name": "stdout",
          "text": [
            "    x          y\n",
            "0  24  21.549452\n",
            "1  50  47.464463\n",
            "2  15  17.218656\n",
            "3  38  36.586398\n",
            "4  87  87.288984\n",
            "    x          y\n",
            "0  77  79.775152\n",
            "1  21  23.177279\n",
            "2  22  25.609262\n",
            "3  20  17.857388\n",
            "4  36  41.849864\n"
          ]
        }
      ]
    },
    {
      "cell_type": "code",
      "metadata": {
        "colab": {
          "base_uri": "https://localhost:8080/"
        },
        "id": "4OWgc0DHoJCs",
        "outputId": "6939e41a-54b5-4c0f-b7ee-9d21a25c8a08"
      },
      "source": [
        "import matplotlib.pyplot as plt\n",
        "import seaborn\n",
        "import pandas as pd\n",
        "import numpy as np\n",
        "\n",
        "data = pd.read_csv(\"Train.csv\")\n",
        "test=pd.read_csv(\"Test.csv\")\n",
        "\n",
        "\n",
        "print(data.head())\n",
        "print(test.head())"
      ],
      "execution_count": null,
      "outputs": [
        {
          "output_type": "stream",
          "name": "stdout",
          "text": [
            "    x          y\n",
            "0  24  21.549452\n",
            "1  50  47.464463\n",
            "2  15  17.218656\n",
            "3  38  36.586398\n",
            "4  87  87.288984\n",
            "    x          y\n",
            "0  77  79.775152\n",
            "1  21  23.177279\n",
            "2  22  25.609262\n",
            "3  20  17.857388\n",
            "4  36  41.849864\n"
          ]
        }
      ]
    },
    {
      "cell_type": "code",
      "metadata": {
        "id": "HZCUsf3S62F9",
        "colab": {
          "base_uri": "https://localhost:8080/"
        },
        "outputId": "5c6087c9-7b99-4335-e1fb-e2c23d823fd0"
      },
      "source": [
        "# NORMAL EQUATION METHOD\n",
        "theta=[0,0]\n",
        "\n",
        "data = pd.read_csv(\"Train.csv\")\n",
        "\n",
        "#data={'x':[630,370,616,700,430,568,1200,2976],'y':[15.5,7.5,13.9,18.7,8.2,13.2,23,87.3]}\n",
        "\n",
        "l=len(data['x'])\n",
        "\n",
        "x=np.ones((l,2))\n",
        "\n",
        "x[:,1]=data['x']\n",
        "\n",
        "y=data['y']\n",
        "\n",
        "theta=np.dot(np.linalg.inv(np.dot(x.T,x)),np.dot(x.T,y))\n",
        "\n",
        "print('Theta: ',theta)\n",
        "print('Theta shape: ',theta.shape)\n",
        "pred_new=np.dot(x,theta)\n",
        "\n",
        "#print('Prediction: ',pred_new)\n",
        "print(\"\\t\\ttheta\\t\\t\\tprediction\\t\\t\\toriginal\")\n",
        "\n",
        "print(\"\\t\",theta[0],\"\\t\",pred_new[0],\"\\t\",y[0])\n",
        "\n",
        "print(\"\\t\",theta[1],\"\\t\",pred_new[1],\"\\t\",y[1])\n"
      ],
      "execution_count": null,
      "outputs": [
        {
          "output_type": "stream",
          "name": "stdout",
          "text": [
            "Theta:  [-0.10726546  1.00065638]\n",
            "Theta shape:  (2,)\n",
            "\t\ttheta\t\t\tprediction\t\t\toriginal\n",
            "\t -0.10726546430091542 \t 23.908487700250348 \t 21.54945196\n",
            "\t 1.0006563818563026 \t 49.925553628514216 \t 47.46446305\n"
          ]
        }
      ]
    },
    {
      "cell_type": "code",
      "metadata": {
        "id": "NL7hViJe62F9",
        "colab": {
          "base_uri": "https://localhost:8080/",
          "height": 442
        },
        "outputId": "b8f4b1eb-3c54-4804-b296-84f4a86d46fc"
      },
      "source": [
        "plt.figure(figsize=(10, 7))\n",
        "ax = plt.axes()\n",
        "model=ax.scatter(data['x'],data['y'],label='Model')\n",
        "linear_regression=ax.plot(data['x'],pred_new,color='red', label='Linear Regression',linewidth=2)\n",
        "\n",
        "ax.set_xlabel('x')\n",
        "ax.set_ylabel('y')\n",
        "\n",
        "plt.legend()\n",
        "plt.show()"
      ],
      "execution_count": null,
      "outputs": [
        {
          "output_type": "display_data",
          "data": {
            "image/png": "[encoded data removed]",
            "text/plain": [
              "<Figure size 720x504 with 1 Axes>"
            ]
          },
          "metadata": {
            "needs_background": "light"
          }
        }
      ]
    },
    {
      "cell_type": "code",
      "metadata": {
        "colab": {
          "base_uri": "https://localhost:8080/"
        },
        "id": "Uo6MLzmWj7KE",
        "outputId": "49ca86fd-2d17-4c43-9509-37b10d092b9e"
      },
      "source": [
        "from sklearn import  metrics\n",
        "# MEAN SQUARED ERROR  &  MEAN ABSOLUTE ERROR\n",
        "mse_=metrics.mean_squared_error(pred_new,y)\n",
        "print('MSE:',mse_)\n",
        "mae_=metrics.mean_absolute_error(pred_new,y)\n",
        "print('MAE: ',mae_)"
      ],
      "execution_count": null,
      "outputs": [
        {
          "output_type": "stream",
          "name": "stdout",
          "text": [
            "MSE: 7.867752733487687\n",
            "MAE:  2.2271519536455586\n"
          ]
        }
      ]
    }
  ]
}