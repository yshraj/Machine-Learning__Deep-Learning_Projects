{
  "nbformat": 4,
  "nbformat_minor": 0,
  "metadata": {
    "colab": {
      "name": "Salary-prediction_Simple_LINEAR_REGRESSION.ipynb",
      "provenance": [],
      "collapsed_sections": []
    },
    "kernelspec": {
      "name": "python3",
      "display_name": "Python 3"
    },
    "language_info": {
      "name": "python"
    }
  },
  "cells": [
    {
      "cell_type": "markdown",
      "metadata": {
        "id": "MGuC7eBpgCHI"
      },
      "source": [
        "Name: YASH DARJI\n",
        "Roll No.: 19BCE043\n",
        "Course : Machine Learning\n",
        "Course Code : 2CS501\n",
        "Practical : 3"
      ]
    },
    {
      "cell_type": "markdown",
      "metadata": {
        "id": "u2LCwzyHVnWt"
      },
      "source": [
        "Salary Prediction using Linear Regression"
      ]
    },
    {
      "cell_type": "code",
      "metadata": {
        "id": "C0yvmgr_jGd0",
        "colab": {
          "base_uri": "https://localhost:8080/",
          "height": 265
        },
        "outputId": "2b389951-13ae-4638-9c21-8dec8986c9bd"
      },
      "source": [
        "import numpy as np\n",
        "from sklearn import datasets,metrics\n",
        "from sklearn.preprocessing import StandardScaler\n",
        "import pandas as pd\n",
        "import matplotlib.pyplot as plt\n",
        "import numpy as np\n",
        "\n",
        "data=pd.read_csv('Salary_Data.csv')\n",
        "\n",
        "X=data.iloc[:,0]\n",
        "Y=data.iloc[:,1]\n",
        "\n",
        "plt.scatter(X,Y)\n",
        "\n",
        "plt.show()"
      ],
      "execution_count": null,
      "outputs": [
        {
          "output_type": "display_data",
          "data": {
            "image/png": "[encoded data removed]",
            "text/plain": [
              "<Figure size 432x288 with 1 Axes>"
            ]
          },
          "metadata": {
            "needs_background": "light"
          }
        }
      ]
    },
    {
      "cell_type": "code",
      "metadata": {
        "colab": {
          "base_uri": "https://localhost:8080/"
        },
        "id": "pE9twdKwcvAL",
        "outputId": "a0dc60b1-c300-4ac8-db8b-f0c443d57adc"
      },
      "source": [
        "m=0\n",
        "c=0\n",
        "L=0.0001\n",
        "epochs=1000\n",
        "n=len(X)\n",
        "\n",
        "for i in range(epochs):\n",
        "  Y_prediction =m*X + c\n",
        "  Derivative_m = (-2 /n)* sum(X*(Y-Y_prediction))\n",
        "  Derivative_c = (-2 /n)* sum(Y-Y_prediction)\n",
        "  m = m-L*Derivative_m\n",
        "  c= c- L*Derivative_c\n",
        "\n",
        "print(m,c)"
      ],
      "execution_count": null,
      "outputs": [
        {
          "output_type": "stream",
          "text": [
            "12836.600965885045 2915.2044856014018\n"
          ],
          "name": "stdout"
        }
      ]
    },
    {
      "cell_type": "code",
      "metadata": {
        "colab": {
          "base_uri": "https://localhost:8080/"
        },
        "id": "cguIXJbPEnhS",
        "outputId": "0e15be29-6687-45aa-d933-ba295a691cb1"
      },
      "source": [
        "m=0\n",
        "c=0\n",
        "L=0.01\n",
        "epochs=10000\n",
        "n=len(X)\n",
        "\n",
        "for i in range(epochs):\n",
        "  Y_prediction =m*X + c\n",
        "  Derivative_m = (-2 /n)* sum(X*(Y-Y_prediction))\n",
        "  Derivative_c = (-2 /n)* sum(Y-Y_prediction)\n",
        "  m = m-L*Derivative_m\n",
        "  c= c- L*Derivative_c\n",
        "\n",
        "print(m,c)"
      ],
      "execution_count": null,
      "outputs": [
        {
          "output_type": "stream",
          "name": "stdout",
          "text": [
            "9449.962321455143 25792.20019866825\n"
          ]
        }
      ]
    },
    {
      "cell_type": "code",
      "metadata": {
        "colab": {
          "base_uri": "https://localhost:8080/",
          "height": 205
        },
        "id": "mW_Fu6HfhoLS",
        "outputId": "a8da5c2f-63c4-48ba-acb8-aa9c798469f5"
      },
      "source": [
        "Y_prediction=m*X+c\n",
        "result = pd.DataFrame({'Years Experience': X, 'Actual Salary': Y, 'Predicted Salary': Y_prediction})\n",
        "result.head()"
      ],
      "execution_count": null,
      "outputs": [
        {
          "output_type": "execute_result",
          "data": {
            "text/html": [
              "<div>\n",
              "<style scoped>\n",
              "    .dataframe tbody tr th:only-of-type {\n",
              "        vertical-align: middle;\n",
              "    }\n",
              "\n",
              "    .dataframe tbody tr th {\n",
              "        vertical-align: top;\n",
              "    }\n",
              "\n",
              "    .dataframe thead th {\n",
              "        text-align: right;\n",
              "    }\n",
              "</style>\n",
              "<table border=\"1\" class=\"dataframe\">\n",
              "  <thead>\n",
              "    <tr style=\"text-align: right;\">\n",
              "      <th></th>\n",
              "      <th>Years Experience</th>\n",
              "      <th>Actual Salary</th>\n",
              "      <th>Predicted Salary</th>\n",
              "    </tr>\n",
              "  </thead>\n",
              "  <tbody>\n",
              "    <tr>\n",
              "      <th>0</th>\n",
              "      <td>1.1</td>\n",
              "      <td>39343.0</td>\n",
              "      <td>36187.158752</td>\n",
              "    </tr>\n",
              "    <tr>\n",
              "      <th>1</th>\n",
              "      <td>1.3</td>\n",
              "      <td>46205.0</td>\n",
              "      <td>38077.151217</td>\n",
              "    </tr>\n",
              "    <tr>\n",
              "      <th>2</th>\n",
              "      <td>1.5</td>\n",
              "      <td>37731.0</td>\n",
              "      <td>39967.143681</td>\n",
              "    </tr>\n",
              "    <tr>\n",
              "      <th>3</th>\n",
              "      <td>2.0</td>\n",
              "      <td>43525.0</td>\n",
              "      <td>44692.124842</td>\n",
              "    </tr>\n",
              "    <tr>\n",
              "      <th>4</th>\n",
              "      <td>2.2</td>\n",
              "      <td>39891.0</td>\n",
              "      <td>46582.117306</td>\n",
              "    </tr>\n",
              "  </tbody>\n",
              "</table>\n",
              "</div>"
            ],
            "text/plain": [
              "   Years Experience  Actual Salary  Predicted Salary\n",
              "0               1.1        39343.0      36187.158752\n",
              "1               1.3        46205.0      38077.151217\n",
              "2               1.5        37731.0      39967.143681\n",
              "3               2.0        43525.0      44692.124842\n",
              "4               2.2        39891.0      46582.117306"
            ]
          },
          "metadata": {},
          "execution_count": 10
        }
      ]
    },
    {
      "cell_type": "code",
      "metadata": {
        "colab": {
          "base_uri": "https://localhost:8080/",
          "height": 537
        },
        "id": "CGga6Xt1fuq1",
        "outputId": "5e9b1a4e-908e-4382-fa38-fdd2c8a93c3e"
      },
      "source": [
        "Y_prediction=m*X+c\n",
        "\n",
        "\n",
        "plt.scatter(X,Y)\n",
        "plt.plot([min(X),max(X)],[min(Y_prediction),max(Y_prediction)],color='blue')\n",
        "plt.show()"
      ],
      "execution_count": null,
      "outputs": [
        {
          "output_type": "display_data",
          "data": {
            "image/png": "[encoded data removed]",
            "text/plain": [
              "<Figure size 864x648 with 1 Axes>"
            ]
          },
          "metadata": {
            "tags": [],
            "needs_background": "light"
          }
        }
      ]
    },
    {
      "cell_type": "code",
      "metadata": {
        "id": "enTwfJO3Gn-b"
      },
      "source": [
        ""
      ],
      "execution_count": null,
      "outputs": []
    },
    {
      "cell_type": "code",
      "metadata": {
        "id": "gu2rNr8GGoJK"
      },
      "source": [
        ""
      ],
      "execution_count": null,
      "outputs": []
    },
    {
      "cell_type": "code",
      "metadata": {
        "id": "TWwMWWIBg_5g",
        "colab": {
          "base_uri": "https://localhost:8080/"
        },
        "outputId": "d2d1a5d2-37ee-4f90-e873-759bb4cf8e2e"
      },
      "source": [
        "m=0\n",
        "c=0\n",
        "L=0.0001\n",
        "epochs=1000\n",
        "n=len(X)\n",
        "\n",
        "for i in range(epochs):\n",
        "  Y_prediction =m*X + c\n",
        "  Derivative_m = (-2 /n)* sum(X*(Y-Y_prediction))\n",
        "  Derivative_c = (-2 /n)* sum(Y-Y_prediction)\n",
        "  m = m-L*Derivative_m\n",
        "  c= c- L*Derivative_c\n",
        "\n",
        "print(m,c)"
      ],
      "execution_count": null,
      "outputs": [
        {
          "output_type": "stream",
          "name": "stdout",
          "text": [
            "11769.706882688291 10160.0572982789\n"
          ]
        }
      ]
    },
    {
      "cell_type": "code",
      "metadata": {
        "colab": {
          "base_uri": "https://localhost:8080/",
          "height": 205
        },
        "id": "N0ILt_pxGuRa",
        "outputId": "cd4ce365-b1a3-4b80-d83b-fb0757690b9d"
      },
      "source": [
        "Y_prediction=m*X+c\n",
        "result = pd.DataFrame({'Years Experience': X, 'Actual Salary': Y, 'Predicted Salary': Y_prediction})\n",
        "result.head()"
      ],
      "execution_count": null,
      "outputs": [
        {
          "output_type": "execute_result",
          "data": {
            "text/html": [
              "<div>\n",
              "<style scoped>\n",
              "    .dataframe tbody tr th:only-of-type {\n",
              "        vertical-align: middle;\n",
              "    }\n",
              "\n",
              "    .dataframe tbody tr th {\n",
              "        vertical-align: top;\n",
              "    }\n",
              "\n",
              "    .dataframe thead th {\n",
              "        text-align: right;\n",
              "    }\n",
              "</style>\n",
              "<table border=\"1\" class=\"dataframe\">\n",
              "  <thead>\n",
              "    <tr style=\"text-align: right;\">\n",
              "      <th></th>\n",
              "      <th>Years Experience</th>\n",
              "      <th>Actual Salary</th>\n",
              "      <th>Predicted Salary</th>\n",
              "    </tr>\n",
              "  </thead>\n",
              "  <tbody>\n",
              "    <tr>\n",
              "      <th>0</th>\n",
              "      <td>1.1</td>\n",
              "      <td>39343.0</td>\n",
              "      <td>23106.734869</td>\n",
              "    </tr>\n",
              "    <tr>\n",
              "      <th>1</th>\n",
              "      <td>1.3</td>\n",
              "      <td>46205.0</td>\n",
              "      <td>25460.676246</td>\n",
              "    </tr>\n",
              "    <tr>\n",
              "      <th>2</th>\n",
              "      <td>1.5</td>\n",
              "      <td>37731.0</td>\n",
              "      <td>27814.617622</td>\n",
              "    </tr>\n",
              "    <tr>\n",
              "      <th>3</th>\n",
              "      <td>2.0</td>\n",
              "      <td>43525.0</td>\n",
              "      <td>33699.471064</td>\n",
              "    </tr>\n",
              "    <tr>\n",
              "      <th>4</th>\n",
              "      <td>2.2</td>\n",
              "      <td>39891.0</td>\n",
              "      <td>36053.412440</td>\n",
              "    </tr>\n",
              "  </tbody>\n",
              "</table>\n",
              "</div>"
            ],
            "text/plain": [
              "   Years Experience  Actual Salary  Predicted Salary\n",
              "0               1.1        39343.0      23106.734869\n",
              "1               1.3        46205.0      25460.676246\n",
              "2               1.5        37731.0      27814.617622\n",
              "3               2.0        43525.0      33699.471064\n",
              "4               2.2        39891.0      36053.412440"
            ]
          },
          "metadata": {},
          "execution_count": 15
        }
      ]
    }
  ]
}