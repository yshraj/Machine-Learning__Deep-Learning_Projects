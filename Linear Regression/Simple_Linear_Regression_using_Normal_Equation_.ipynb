{
  "nbformat": 4,
  "nbformat_minor": 0,
  "metadata": {
    "colab": {
      "name": "Simple Linear Regression using Normal Equation .ipynb",
      "provenance": [],
      "collapsed_sections": []
    },
    "kernelspec": {
      "name": "python3",
      "display_name": "Python 3"
    },
    "language_info": {
      "name": "python"
    }
  },
  "cells": [
    {
      "cell_type": "markdown",
      "metadata": {
        "id": "MGuC7eBpgCHI"
      },
      "source": [
        "Name: YASH DARJI\n",
        "Roll No.: 19BCE043\n",
        "Course : Machine Learning\n",
        "Course Code : 2CS501\n",
        "Practical : 3"
      ]
    },
    {
      "cell_type": "markdown",
      "metadata": {
        "id": "PKVHuGtlHOIl"
      },
      "source": [
        "Simple Linear Regression using Normal Eqaution method.\n",
        "Here I am trying to predict y from x from Test samples."
      ]
    },
    {
      "cell_type": "code",
      "metadata": {
        "colab": {
          "base_uri": "https://localhost:8080/",
          "height": 205
        },
        "id": "4PrUbglXER6Q",
        "outputId": "8aaa37df-a2e7-4344-b58f-f6197e05afc4"
      },
      "source": [
        "import numpy as np\n",
        "from sklearn import datasets,metrics\n",
        "from sklearn.preprocessing import StandardScaler\n",
        "import pandas as pd\n",
        "import matplotlib.pyplot as plt\n",
        "\n",
        "data=pd.read_csv('Test.csv')\n",
        "data.head()"
      ],
      "execution_count": null,
      "outputs": [
        {
          "output_type": "execute_result",
          "data": {
            "text/html": [
              "<div>\n",
              "<style scoped>\n",
              "    .dataframe tbody tr th:only-of-type {\n",
              "        vertical-align: middle;\n",
              "    }\n",
              "\n",
              "    .dataframe tbody tr th {\n",
              "        vertical-align: top;\n",
              "    }\n",
              "\n",
              "    .dataframe thead th {\n",
              "        text-align: right;\n",
              "    }\n",
              "</style>\n",
              "<table border=\"1\" class=\"dataframe\">\n",
              "  <thead>\n",
              "    <tr style=\"text-align: right;\">\n",
              "      <th></th>\n",
              "      <th>x</th>\n",
              "      <th>y</th>\n",
              "    </tr>\n",
              "  </thead>\n",
              "  <tbody>\n",
              "    <tr>\n",
              "      <th>0</th>\n",
              "      <td>77</td>\n",
              "      <td>79.775152</td>\n",
              "    </tr>\n",
              "    <tr>\n",
              "      <th>1</th>\n",
              "      <td>21</td>\n",
              "      <td>23.177279</td>\n",
              "    </tr>\n",
              "    <tr>\n",
              "      <th>2</th>\n",
              "      <td>22</td>\n",
              "      <td>25.609262</td>\n",
              "    </tr>\n",
              "    <tr>\n",
              "      <th>3</th>\n",
              "      <td>20</td>\n",
              "      <td>17.857388</td>\n",
              "    </tr>\n",
              "    <tr>\n",
              "      <th>4</th>\n",
              "      <td>36</td>\n",
              "      <td>41.849864</td>\n",
              "    </tr>\n",
              "  </tbody>\n",
              "</table>\n",
              "</div>"
            ],
            "text/plain": [
              "    x          y\n",
              "0  77  79.775152\n",
              "1  21  23.177279\n",
              "2  22  25.609262\n",
              "3  20  17.857388\n",
              "4  36  41.849864"
            ]
          },
          "metadata": {},
          "execution_count": 19
        }
      ]
    },
    {
      "cell_type": "code",
      "metadata": {
        "colab": {
          "base_uri": "https://localhost:8080/",
          "height": 265
        },
        "id": "Y8gDsGlu-ZTR",
        "outputId": "a3a68e4c-2030-4b7e-be99-615fe558ee54"
      },
      "source": [
        "x=np.array(data['x'])\n",
        "y=np.array(data['y'])\n",
        "\n",
        "plt.scatter(x,y)\n",
        "plt.show()\n",
        "\n"
      ],
      "execution_count": null,
      "outputs": [
        {
          "output_type": "display_data",
          "data": {
            "image/png": "[encoded data removed]",
            "text/plain": [
              "<Figure size 432x288 with 1 Axes>"
            ]
          },
          "metadata": {
            "needs_background": "light"
          }
        }
      ]
    },
    {
      "cell_type": "code",
      "metadata": {
        "colab": {
          "base_uri": "https://localhost:8080/"
        },
        "id": "9nK68I2w-M-w",
        "outputId": "5691a246-1221-4f3a-b8c0-f7926acc35b9"
      },
      "source": [
        "theta=[0,0]\n",
        "\n",
        "data = pd.read_csv(\"Test.csv\")\n",
        "\n",
        "l=len(data['x'])\n",
        "\n",
        "x=np.ones((l,2))\n",
        "x[:,1]=data['x']\n",
        "\n",
        "y=data['y']\n",
        "print(x)\n",
        "\n",
        "#main formula is here (xt.x)inv . xty\n",
        "theta=np.dot(np.linalg.inv(np.dot(x.T,x)),np.dot(x.T,y))\n",
        "\n",
        "print('Theta: ',theta)\n",
        "pred_new=np.dot(x,theta)\n",
        "\n",
        "print('Prediction: ',pred_new)"
      ],
      "execution_count": null,
      "outputs": [
        {
          "output_type": "stream",
          "name": "stdout",
          "text": [
            "[[  1.  77.]\n",
            " [  1.  21.]\n",
            " [  1.  22.]\n",
            " [  1.  20.]\n",
            " [  1.  36.]\n",
            " [  1.  15.]\n",
            " [  1.  62.]\n",
            " [  1.  95.]\n",
            " [  1.  20.]\n",
            " [  1.   5.]\n",
            " [  1.   4.]\n",
            " [  1.  19.]\n",
            " [  1.  96.]\n",
            " [  1.  62.]\n",
            " [  1.  36.]\n",
            " [  1.  15.]\n",
            " [  1.  65.]\n",
            " [  1.  14.]\n",
            " [  1.  87.]\n",
            " [  1.  69.]\n",
            " [  1.  89.]\n",
            " [  1.  51.]\n",
            " [  1.  89.]\n",
            " [  1.  27.]\n",
            " [  1.  97.]\n",
            " [  1.  58.]\n",
            " [  1.  79.]\n",
            " [  1.  21.]\n",
            " [  1.  93.]\n",
            " [  1.  27.]\n",
            " [  1.  99.]\n",
            " [  1.  31.]\n",
            " [  1.  33.]\n",
            " [  1.  80.]\n",
            " [  1.  28.]\n",
            " [  1.  47.]\n",
            " [  1.  53.]\n",
            " [  1.  69.]\n",
            " [  1.  28.]\n",
            " [  1.  33.]\n",
            " [  1.  91.]\n",
            " [  1.  71.]\n",
            " [  1.  50.]\n",
            " [  1.  76.]\n",
            " [  1.   4.]\n",
            " [  1.  37.]\n",
            " [  1.  70.]\n",
            " [  1.  68.]\n",
            " [  1.  40.]\n",
            " [  1.  35.]\n",
            " [  1.  94.]\n",
            " [  1.  88.]\n",
            " [  1.  52.]\n",
            " [  1.  31.]\n",
            " [  1.  59.]\n",
            " [  1.   0.]\n",
            " [  1.  39.]\n",
            " [  1.  64.]\n",
            " [  1.  69.]\n",
            " [  1.  57.]\n",
            " [  1.  13.]\n",
            " [  1.  72.]\n",
            " [  1.  76.]\n",
            " [  1.  61.]\n",
            " [  1.  82.]\n",
            " [  1.  18.]\n",
            " [  1.  41.]\n",
            " [  1.  50.]\n",
            " [  1.  55.]\n",
            " [  1.  13.]\n",
            " [  1.  46.]\n",
            " [  1.  13.]\n",
            " [  1.  79.]\n",
            " [  1.  53.]\n",
            " [  1.  15.]\n",
            " [  1.  28.]\n",
            " [  1.  81.]\n",
            " [  1.  69.]\n",
            " [  1.  52.]\n",
            " [  1.  84.]\n",
            " [  1.  68.]\n",
            " [  1.  27.]\n",
            " [  1.  56.]\n",
            " [  1.  48.]\n",
            " [  1.  40.]\n",
            " [  1.  39.]\n",
            " [  1.  82.]\n",
            " [  1. 100.]\n",
            " [  1.  59.]\n",
            " [  1.  43.]\n",
            " [  1.  67.]\n",
            " [  1.  38.]\n",
            " [  1.  63.]\n",
            " [  1.  91.]\n",
            " [  1.  60.]\n",
            " [  1.  14.]\n",
            " [  1.  21.]\n",
            " [  1.  87.]\n",
            " [  1.  73.]\n",
            " [  1.  32.]\n",
            " [  1.   2.]\n",
            " [  1.  82.]\n",
            " [  1.  19.]\n",
            " [  1.  74.]\n",
            " [  1.  42.]\n",
            " [  1.  12.]\n",
            " [  1.   1.]\n",
            " [  1.  90.]\n",
            " [  1.  89.]\n",
            " [  1.   0.]\n",
            " [  1.  41.]\n",
            " [  1.  16.]\n",
            " [  1.  94.]\n",
            " [  1.  97.]\n",
            " [  1.  66.]\n",
            " [  1.  24.]\n",
            " [  1.  17.]\n",
            " [  1.  90.]\n",
            " [  1.  13.]\n",
            " [  1.   0.]\n",
            " [  1.  64.]\n",
            " [  1.  96.]\n",
            " [  1.  98.]\n",
            " [  1.  12.]\n",
            " [  1.  41.]\n",
            " [  1.  47.]\n",
            " [  1.  78.]\n",
            " [  1.  20.]\n",
            " [  1.  89.]\n",
            " [  1.  29.]\n",
            " [  1.  64.]\n",
            " [  1.  75.]\n",
            " [  1.  12.]\n",
            " [  1.  25.]\n",
            " [  1.  28.]\n",
            " [  1.  30.]\n",
            " [  1.  65.]\n",
            " [  1.  59.]\n",
            " [  1.  64.]\n",
            " [  1.  53.]\n",
            " [  1.  71.]\n",
            " [  1.  97.]\n",
            " [  1.  73.]\n",
            " [  1.   9.]\n",
            " [  1.  12.]\n",
            " [  1.  63.]\n",
            " [  1.  99.]\n",
            " [  1.  60.]\n",
            " [  1.  35.]\n",
            " [  1.   2.]\n",
            " [  1.  60.]\n",
            " [  1.  32.]\n",
            " [  1.  94.]\n",
            " [  1.  84.]\n",
            " [  1.  63.]\n",
            " [  1.  22.]\n",
            " [  1.  81.]\n",
            " [  1.  93.]\n",
            " [  1.  33.]\n",
            " [  1.   7.]\n",
            " [  1.  42.]\n",
            " [  1.  46.]\n",
            " [  1.  54.]\n",
            " [  1.  16.]\n",
            " [  1.  49.]\n",
            " [  1.  43.]\n",
            " [  1.  95.]\n",
            " [  1.  66.]\n",
            " [  1.  21.]\n",
            " [  1.  35.]\n",
            " [  1.  80.]\n",
            " [  1.  37.]\n",
            " [  1.  54.]\n",
            " [  1.  56.]\n",
            " [  1.   1.]\n",
            " [  1.  32.]\n",
            " [  1.  58.]\n",
            " [  1.  32.]\n",
            " [  1.  46.]\n",
            " [  1.  72.]\n",
            " [  1.  17.]\n",
            " [  1.  97.]\n",
            " [  1.  93.]\n",
            " [  1.  91.]\n",
            " [  1.  37.]\n",
            " [  1.   4.]\n",
            " [  1.  54.]\n",
            " [  1.  51.]\n",
            " [  1.  27.]\n",
            " [  1.  46.]\n",
            " [  1.  92.]\n",
            " [  1.  73.]\n",
            " [  1.  77.]\n",
            " [  1.  91.]\n",
            " [  1.  61.]\n",
            " [  1.  99.]\n",
            " [  1.   4.]\n",
            " [  1.  72.]\n",
            " [  1.  19.]\n",
            " [  1.  57.]\n",
            " [  1.  78.]\n",
            " [  1.  26.]\n",
            " [  1.  74.]\n",
            " [  1.  90.]\n",
            " [  1.  66.]\n",
            " [  1.  13.]\n",
            " [  1.  40.]\n",
            " [  1.  77.]\n",
            " [  1.  67.]\n",
            " [  1.  75.]\n",
            " [  1.  23.]\n",
            " [  1.  45.]\n",
            " [  1.  59.]\n",
            " [  1.  44.]\n",
            " [  1.  23.]\n",
            " [  1.  55.]\n",
            " [  1.  55.]\n",
            " [  1.  95.]\n",
            " [  1.  12.]\n",
            " [  1.   4.]\n",
            " [  1.   7.]\n",
            " [  1. 100.]\n",
            " [  1.  48.]\n",
            " [  1.  42.]\n",
            " [  1.  96.]\n",
            " [  1.  39.]\n",
            " [  1. 100.]\n",
            " [  1.  87.]\n",
            " [  1.  14.]\n",
            " [  1.  14.]\n",
            " [  1.  37.]\n",
            " [  1.   5.]\n",
            " [  1.  88.]\n",
            " [  1.  91.]\n",
            " [  1.  65.]\n",
            " [  1.  74.]\n",
            " [  1.  56.]\n",
            " [  1.  16.]\n",
            " [  1.   5.]\n",
            " [  1.  28.]\n",
            " [  1.  92.]\n",
            " [  1.  46.]\n",
            " [  1.  54.]\n",
            " [  1.  39.]\n",
            " [  1.  44.]\n",
            " [  1.  31.]\n",
            " [  1.  68.]\n",
            " [  1.  86.]\n",
            " [  1.  90.]\n",
            " [  1.  38.]\n",
            " [  1.  21.]\n",
            " [  1.  95.]\n",
            " [  1.  56.]\n",
            " [  1.  60.]\n",
            " [  1.  65.]\n",
            " [  1.  78.]\n",
            " [  1.  89.]\n",
            " [  1.   6.]\n",
            " [  1.  67.]\n",
            " [  1.  36.]\n",
            " [  1.  16.]\n",
            " [  1. 100.]\n",
            " [  1.  45.]\n",
            " [  1.  73.]\n",
            " [  1.  57.]\n",
            " [  1.  20.]\n",
            " [  1.  76.]\n",
            " [  1.  34.]\n",
            " [  1.  55.]\n",
            " [  1.  72.]\n",
            " [  1.  55.]\n",
            " [  1.   8.]\n",
            " [  1.  56.]\n",
            " [  1.  72.]\n",
            " [  1.  58.]\n",
            " [  1.   6.]\n",
            " [  1.  96.]\n",
            " [  1.  23.]\n",
            " [  1.  58.]\n",
            " [  1.  23.]\n",
            " [  1.  19.]\n",
            " [  1.  25.]\n",
            " [  1.  64.]\n",
            " [  1.  21.]\n",
            " [  1.  59.]\n",
            " [  1.  19.]\n",
            " [  1.  16.]\n",
            " [  1.  42.]\n",
            " [  1.  43.]\n",
            " [  1.  61.]\n",
            " [  1.  92.]\n",
            " [  1.  11.]\n",
            " [  1.  41.]\n",
            " [  1.   1.]\n",
            " [  1.   8.]\n",
            " [  1.  71.]\n",
            " [  1.  46.]\n",
            " [  1.  55.]\n",
            " [  1.  62.]\n",
            " [  1.  47.]]\n",
            "Theta:  [-0.46181077  1.01433536]\n",
            "Prediction:  [ 77.64201157  20.83923168  21.85356704  19.82489633  36.05426201\n",
            "  14.75321955  62.42698124  95.90004796  19.82489633   4.609866\n",
            "   3.59553065  18.81056097  96.91438332  62.42698124  36.05426201\n",
            "  14.75321955  65.46998731  13.7388842   87.78536512  69.52732873\n",
            "  89.81403583  51.26929234  89.81403583  26.92524381  97.92871867\n",
            "  58.36963982  79.67068228  20.83923168  93.87137725  26.92524381\n",
            "  99.95738938  30.98258524  33.01125595  80.68501764  27.93957917\n",
            "  47.21195092  53.29796305  69.52732873  27.93957917  33.01125595\n",
            "  91.84270654  71.55599944  50.25495698  76.62767622   3.59553065\n",
            "  37.06859737  70.54166408  68.51299337  40.11160343  35.03992666\n",
            "  94.88571261  88.79970048  52.28362769  30.98258524  59.38397518\n",
            "  -0.46181077  39.09726808  64.45565195  69.52732873  57.35530447\n",
            "  12.72454884  72.57033479  76.62767622  61.41264589  82.71368835\n",
            "  17.79622562  41.12593879  50.25495698  55.32663376  12.72454884\n",
            "  46.19761556  12.72454884  79.67068228  53.29796305  14.75321955\n",
            "  27.93957917  81.69935299  69.52732873  52.28362769  84.74235906\n",
            "  68.51299337  26.92524381  56.34096911  48.22628627  40.11160343\n",
            "  39.09726808  82.71368835 100.97172474  59.38397518  43.1546095\n",
            "  67.49865802  38.08293272  63.4413166   91.84270654  60.39831053\n",
            "  13.7388842   20.83923168  87.78536512  73.58467015  31.99692059\n",
            "   1.56685994  82.71368835  18.81056097  74.59900551  42.14027414\n",
            "  11.71021349   0.55252458  90.82837119  89.81403583  -0.46181077\n",
            "  41.12593879  15.76755491  94.88571261  97.92871867  66.48432266\n",
            "  23.88223775  16.78189026  90.82837119  12.72454884  -0.46181077\n",
            "  64.45565195  96.91438332  98.94305403  11.71021349  41.12593879\n",
            "  47.21195092  78.65634693  19.82489633  89.81403583  28.95391452\n",
            "  64.45565195  75.61334086  11.71021349  24.8965731   27.93957917\n",
            "  29.96824988  65.46998731  59.38397518  64.45565195  53.29796305\n",
            "  71.55599944  97.92871867  73.58467015   8.66720742  11.71021349\n",
            "  63.4413166   99.95738938  60.39831053  35.03992666   1.56685994\n",
            "  60.39831053  31.99692059  94.88571261  84.74235906  63.4413166\n",
            "  21.85356704  81.69935299  93.87137725  33.01125595   6.63853671\n",
            "  42.14027414  46.19761556  54.3122984   15.76755491  49.24062163\n",
            "  43.1546095   95.90004796  66.48432266  20.83923168  35.03992666\n",
            "  80.68501764  37.06859737  54.3122984   56.34096911   0.55252458\n",
            "  31.99692059  58.36963982  31.99692059  46.19761556  72.57033479\n",
            "  16.78189026  97.92871867  93.87137725  91.84270654  37.06859737\n",
            "   3.59553065  54.3122984   51.26929234  26.92524381  46.19761556\n",
            "  92.8570419   73.58467015  77.64201157  91.84270654  61.41264589\n",
            "  99.95738938   3.59553065  72.57033479  18.81056097  57.35530447\n",
            "  78.65634693  25.91090846  74.59900551  90.82837119  66.48432266\n",
            "  12.72454884  40.11160343  77.64201157  67.49865802  75.61334086\n",
            "  22.86790239  45.18328021  59.38397518  44.16894485  22.86790239\n",
            "  55.32663376  55.32663376  95.90004796  11.71021349   3.59553065\n",
            "   6.63853671 100.97172474  48.22628627  42.14027414  96.91438332\n",
            "  39.09726808 100.97172474  87.78536512  13.7388842   13.7388842\n",
            "  37.06859737   4.609866    88.79970048  91.84270654  65.46998731\n",
            "  74.59900551  56.34096911  15.76755491   4.609866    27.93957917\n",
            "  92.8570419   46.19761556  54.3122984   39.09726808  44.16894485\n",
            "  30.98258524  68.51299337  86.77102977  90.82837119  38.08293272\n",
            "  20.83923168  95.90004796  56.34096911  60.39831053  65.46998731\n",
            "  78.65634693  89.81403583   5.62420136  67.49865802  36.05426201\n",
            "  15.76755491 100.97172474  45.18328021  73.58467015  57.35530447\n",
            "  19.82489633  76.62767622  34.0255913   55.32663376  72.57033479\n",
            "  55.32663376   7.65287207  56.34096911  72.57033479  58.36963982\n",
            "   5.62420136  96.91438332  22.86790239  58.36963982  22.86790239\n",
            "  18.81056097  24.8965731   64.45565195  20.83923168  59.38397518\n",
            "  18.81056097  15.76755491  42.14027414  43.1546095   61.41264589\n",
            "  92.8570419   10.69587813  41.12593879   0.55252458   7.65287207\n",
            "  71.55599944  46.19761556  55.32663376  62.42698124  47.21195092]\n"
          ]
        }
      ]
    },
    {
      "cell_type": "code",
      "metadata": {
        "colab": {
          "base_uri": "https://localhost:8080/",
          "height": 279
        },
        "id": "O4ZUavJ8_I8_",
        "outputId": "a8694bf8-34f4-4899-a40d-ffb4c5a9a1cc"
      },
      "source": [
        "ax = plt.axes()\n",
        "model=ax.scatter(data['x'],data['y'],label='Model')\n",
        "linear_regression=ax.plot(data['x'],pred_new,color='red', label='Linear Regression',linewidth=2)\n",
        "ax.set_xlabel('x')\n",
        "ax.set_ylabel('y')\n",
        "plt.legend()\n",
        "plt.show()"
      ],
      "execution_count": null,
      "outputs": [
        {
          "output_type": "display_data",
          "data": {
            "image/png": "[encoded data removed]",
            "text/plain": [
              "<Figure size 432x288 with 1 Axes>"
            ]
          },
          "metadata": {
            "needs_background": "light"
          }
        }
      ]
    },
    {
      "cell_type": "code",
      "metadata": {
        "id": "TLAXOR_R_bWE"
      },
      "source": [
        ""
      ],
      "execution_count": null,
      "outputs": []
    },
    {
      "cell_type": "code",
      "metadata": {
        "id": "Od6MujtW_bdG"
      },
      "source": [
        ""
      ],
      "execution_count": null,
      "outputs": []
    },
    {
      "cell_type": "code",
      "metadata": {
        "id": "34gGxbYz_e_T"
      },
      "source": [
        ""
      ],
      "execution_count": null,
      "outputs": []
    },
    {
      "cell_type": "code",
      "metadata": {
        "id": "C0D3Ocxe_fBn"
      },
      "source": [
        ""
      ],
      "execution_count": null,
      "outputs": []
    },
    {
      "cell_type": "code",
      "metadata": {
        "colab": {
          "base_uri": "https://localhost:8080/",
          "height": 337
        },
        "id": "O1PX_IpYFiIs",
        "outputId": "1d725ef3-2525-438b-ebf1-a65ed11b11c1"
      },
      "source": [
        "x=np.array(data['x'])\n",
        "y=np.array(data['y'])\n",
        "\n",
        "from sklearn.model_selection import train_test_split\n",
        "x_train,x_test,y_train,y_test=train_test_split(x,y)\n",
        "print(x_train.shape)\n",
        "print(x_test.shape)\n",
        "print(y_train.shape)\n",
        "print(y_test.shape)\n",
        "plt.scatter(x,y)\n",
        "plt.show()"
      ],
      "execution_count": null,
      "outputs": [
        {
          "output_type": "stream",
          "name": "stdout",
          "text": [
            "(225,)\n",
            "(75,)\n",
            "(225,)\n",
            "(75,)\n"
          ]
        },
        {
          "output_type": "display_data",
          "data": {
            "image/png": "[encoded data removed]",
            "text/plain": [
              "<Figure size 432x288 with 1 Axes>"
            ]
          },
          "metadata": {
            "needs_background": "light"
          }
        }
      ]
    },
    {
      "cell_type": "code",
      "metadata": {
        "id": "0y_nIOZX3RDc"
      },
      "source": [
        ""
      ],
      "execution_count": null,
      "outputs": []
    },
    {
      "cell_type": "code",
      "metadata": {
        "id": "YswVF670F9KU"
      },
      "source": [
        "\n",
        "x_new=np.c_[np.ones((len(x_train),1)),x_train]\n",
        "#print(x_new)\n",
        "m_c=np.linalg.inv(x_new.T.dot(x_new)).dot(x_new.T).dot(y_train)\n",
        "m=m_c[1:]\n",
        "c=m_c[0:1]\n",
        "#print(m,c)"
      ],
      "execution_count": null,
      "outputs": []
    },
    {
      "cell_type": "code",
      "metadata": {
        "id": "cT4LyUvKGcY4"
      },
      "source": [
        "x_new_test=np.c_[np.ones((len(x_test),1)),x_test]\n",
        "y_pred=x_new_test.dot(m_c)"
      ],
      "execution_count": null,
      "outputs": []
    },
    {
      "cell_type": "code",
      "metadata": {
        "colab": {
          "base_uri": "https://localhost:8080/",
          "height": 295
        },
        "id": "u8nAfYxWGmqY",
        "outputId": "6fb90d9a-32a1-439f-933a-d46f858b44bc"
      },
      "source": [
        "plt.plot(x_test,y_pred,color='blue')\n",
        "plt.scatter(x,y,color='red')\n",
        "plt.xlabel(\"x\")\n",
        "plt.ylabel(\"y\")\n",
        "plt.title(\"linear regression with one variable\")\n",
        "plt.show()"
      ],
      "execution_count": null,
      "outputs": [
        {
          "output_type": "display_data",
          "data": {
            "image/png": "[encoded data removed]",
            "text/plain": [
              "<Figure size 432x288 with 1 Axes>"
            ]
          },
          "metadata": {
            "needs_background": "light"
          }
        }
      ]
    },
    {
      "cell_type": "code",
      "metadata": {
        "colab": {
          "base_uri": "https://localhost:8080/",
          "height": 296
        },
        "id": "ocfs3a573R7z",
        "outputId": "7f231892-827a-4a8a-c6a8-f5eb1059a303"
      },
      "source": [
        "import numpy as np\n",
        "import matplotlib.pyplot as plt\n",
        "from sklearn.datasets import make_regression\n",
        "\n",
        "data=pd.read_csv('Test.csv')\n",
        "data.head()\n",
        "x=np.array(data['x'])\n",
        "y=np.array(data['y'])\n",
        "plt.scatter(x,y,s=30,marker='o')\n",
        "plt.xlabel(\"Feature_1 --->\")\n",
        "plt.ylabel(\"Target_Variable --->\")\n",
        "plt.title('Simple Linear Regression')\n",
        "plt.show()\n",
        "y=y.reshape(300,1)\n"
      ],
      "execution_count": null,
      "outputs": [
        {
          "output_type": "display_data",
          "data": {
            "image/png": "[encoded data removed]",
            "text/plain": [
              "<Figure size 432x288 with 1 Axes>"
            ]
          },
          "metadata": {
            "needs_background": "light"
          }
        }
      ]
    },
    {
      "cell_type": "code",
      "metadata": {
        "colab": {
          "base_uri": "https://localhost:8080/"
        },
        "id": "D0LFZB5w4oct",
        "outputId": "d0d523b5-3bd3-4ac0-990f-dbe4fdd87fb6"
      },
      "source": [
        "# code\n",
        "\n",
        "# Adding x0=1 to each instance\n",
        "x_new=np.array([np.ones(len(x)),x.flatten()]).T\n",
        "\n",
        "# Using Normal Equation.\n",
        "theta_best_values=np.linalg.inv(x_new.T.dot(x_new)).dot(x_new.T).dot(y)\n",
        "\n",
        "# Display best values obtained.\n",
        "print(theta_best_values)\n"
      ],
      "execution_count": null,
      "outputs": [
        {
          "output_type": "stream",
          "name": "stdout",
          "text": [
            "[[-0.46181077]\n",
            " [ 1.01433536]]\n"
          ]
        }
      ]
    },
    {
      "cell_type": "code",
      "metadata": {
        "colab": {
          "base_uri": "https://localhost:8080/"
        },
        "id": "jS4tQu3d4rvc",
        "outputId": "346b32fd-dc9d-41ac-e4cc-d5bdccf4de9d"
      },
      "source": [
        "# code\n",
        "\n",
        "# sample data instance.\n",
        "x_sample=np.array([[-2],[4]])\n",
        "\n",
        "# Adding x0=1 to each instance.\n",
        "x_sample_new=np.array([np.ones(len(x_sample)),x_sample.flatten()]).T\n",
        "\n",
        "# Display the sample.\n",
        "print(\"Before adding x0:\\n\",x_sample)\n",
        "print(\"After adding x0:\\n\",x_sample_new)\n"
      ],
      "execution_count": null,
      "outputs": [
        {
          "output_type": "stream",
          "name": "stdout",
          "text": [
            "Before adding x0:\n",
            " [[-2]\n",
            " [ 4]]\n",
            "After adding x0:\n",
            " [[ 1. -2.]\n",
            " [ 1.  4.]]\n"
          ]
        }
      ]
    },
    {
      "cell_type": "code",
      "metadata": {
        "colab": {
          "base_uri": "https://localhost:8080/",
          "height": 333
        },
        "id": "VOu0cDb14vF-",
        "outputId": "aec26471-d98d-4cbd-b0b8-3295b38fbfc6"
      },
      "source": [
        "# code\n",
        "# code\n",
        "# predict the values for given data instance.\n",
        "predict_value=x_sample_new.dot(theta_best_values)\n",
        "print(predict_value)\n",
        "\n",
        "# Plot the output.\n",
        "plt.scatter(x,y,s=30,marker='o')\n",
        "plt.plot(x_sample,predict_value,c='red')\n",
        "plt.plot()\n",
        "plt.xlabel(\"Feature_1 --->\")\n",
        "plt.ylabel(\"Target_Variable --->\")\n",
        "plt.title('Simple Linear Regression')\n",
        "plt.show()\n"
      ],
      "execution_count": null,
      "outputs": [
        {
          "output_type": "stream",
          "name": "stdout",
          "text": [
            "[[-2.49048148]\n",
            " [ 3.59553065]]\n"
          ]
        },
        {
          "output_type": "display_data",
          "data": {
            "image/png": "[encoded data removed]",
            "text/plain": [
              "<Figure size 432x288 with 1 Axes>"
            ]
          },
          "metadata": {
            "needs_background": "light"
          }
        }
      ]
    }
  ]
}